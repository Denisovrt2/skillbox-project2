dc = {}

for i in range(int(input())):
    word = input().split()
    a = ''.join(word[0])
    b = ''.join(word[1])
    c = ''.join(word[2])
    dc.setdefault(a, {}).setdefault(b, 0)
    dc[a][b] += int(c)
  
for k,v in sorted(dc.items()):
    print(k+':')
    for k1,v2 in sorted(v.items()):
        print(k1,v2)
