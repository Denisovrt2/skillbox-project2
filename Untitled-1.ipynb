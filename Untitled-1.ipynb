{
 "cells": [
  {
   "cell_type": "code",
   "execution_count": null,
   "metadata": {},
   "outputs": [],
   "source": [
    "dc1 = {}\n",
    "for i in range(int(input())):\n",
    "    data = input().split()\n",
    "    k = data[0]\n",
    "    v= ''.join(data[1:])\n",
    "    dc1[k] = v\n",
    "    \n",
    "\n",
    "\n",
    "dc2 = {}\n",
    "for i in range(int(input())):\n",
    "    data = input().split()\n",
    "    k = ''.join(data[0])\n",
    "    v = ''.join(data[1:])\n",
    "    if k == 'execute':\n",
    "        k = 'X'\n",
    "    elif k == 'read':\n",
    "        k = 'R'\n",
    "    elif k == 'write':\n",
    "        k = 'W'\n",
    "    if k in dc1.get(v,''):\n",
    "        print(\"OK\")\n",
    "    else:\n",
    "        print(\"Access denied\")"
   ]
  }
 ],
 "metadata": {
  "language_info": {
   "name": "python"
  }
 },
 "nbformat": 4,
 "nbformat_minor": 2
}
